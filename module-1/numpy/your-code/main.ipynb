{
 "cells": [
  {
   "cell_type": "markdown",
   "metadata": {},
   "source": [
    "# Introduction to NumPy\n",
    "\n",
    "\n",
    "#### 1. Import NumPy under the name np."
   ]
  },
  {
   "cell_type": "code",
   "execution_count": 3,
   "metadata": {},
   "outputs": [],
   "source": [
    "import numpy as np"
   ]
  },
  {
   "cell_type": "markdown",
   "metadata": {},
   "source": [
    "#### 2. Print your NumPy version."
   ]
  },
  {
   "cell_type": "code",
   "execution_count": 4,
   "metadata": {},
   "outputs": [
    {
     "data": {
      "text/plain": [
       "'1.18.1'"
      ]
     },
     "execution_count": 4,
     "metadata": {},
     "output_type": "execute_result"
    }
   ],
   "source": [
    "np.version.version"
   ]
  },
  {
   "cell_type": "markdown",
   "metadata": {},
   "source": [
    "#### 3. Generate a 2x3x5 3-dimensional array with random values. Assign the array to variable *a*.\n",
    "**Challenge**: there are at least three easy ways that use numpy to generate random arrays. How many ways can you find?"
   ]
  },
  {
   "cell_type": "code",
   "execution_count": 5,
   "metadata": {},
   "outputs": [],
   "source": [
    "# Method 1\n",
    "a = np.random.random((2,3,5))\n",
    "\n",
    "#Comprobamos la estructura de la matriz con el método .shape\n",
    "#a.shape"
   ]
  },
  {
   "cell_type": "code",
   "execution_count": 6,
   "metadata": {},
   "outputs": [],
   "source": [
    "# Method 2\n",
    "a = np.random.rand(2,3,5)\n"
   ]
  },
  {
   "cell_type": "code",
   "execution_count": 7,
   "metadata": {},
   "outputs": [],
   "source": [
    "# Method 3\n",
    "#a = np.random.normal(size=(2,3,5))\n",
    "#Este método no parece que devuelva un resultado parecido, ¿qué estoy haciendo mal?\n"
   ]
  },
  {
   "cell_type": "markdown",
   "metadata": {},
   "source": [
    "#### 4. Print *a*.\n"
   ]
  },
  {
   "cell_type": "code",
   "execution_count": 8,
   "metadata": {},
   "outputs": [
    {
     "data": {
      "text/plain": [
       "array([[[0.91399405, 0.59238828, 0.00366996, 0.52079189, 0.38218735],\n",
       "        [0.5454666 , 0.77066101, 0.11352731, 0.59353564, 0.7899352 ],\n",
       "        [0.56164932, 0.6780202 , 0.38800914, 0.87088402, 0.49639675]],\n",
       "\n",
       "       [[0.98182773, 0.25711941, 0.46078123, 0.19823094, 0.29850706],\n",
       "        [0.24882793, 0.99975732, 0.07407179, 0.85201861, 0.79437827],\n",
       "        [0.06318756, 0.8720668 , 0.47479499, 0.2802819 , 0.44153684]]])"
      ]
     },
     "execution_count": 8,
     "metadata": {},
     "output_type": "execute_result"
    }
   ],
   "source": [
    "a"
   ]
  },
  {
   "cell_type": "markdown",
   "metadata": {},
   "source": [
    "#### 5. Create a 5x2x3 3-dimensional array with all values equaling 1. Assign the array to variable *b*."
   ]
  },
  {
   "cell_type": "code",
   "execution_count": 9,
   "metadata": {},
   "outputs": [],
   "source": [
    "b = np.ones((5,2,3))"
   ]
  },
  {
   "cell_type": "markdown",
   "metadata": {},
   "source": [
    "#### 6. Print *b*.\n"
   ]
  },
  {
   "cell_type": "code",
   "execution_count": 10,
   "metadata": {},
   "outputs": [
    {
     "data": {
      "text/plain": [
       "array([[[1., 1., 1.],\n",
       "        [1., 1., 1.]],\n",
       "\n",
       "       [[1., 1., 1.],\n",
       "        [1., 1., 1.]],\n",
       "\n",
       "       [[1., 1., 1.],\n",
       "        [1., 1., 1.]],\n",
       "\n",
       "       [[1., 1., 1.],\n",
       "        [1., 1., 1.]],\n",
       "\n",
       "       [[1., 1., 1.],\n",
       "        [1., 1., 1.]]])"
      ]
     },
     "execution_count": 10,
     "metadata": {},
     "output_type": "execute_result"
    }
   ],
   "source": [
    "b"
   ]
  },
  {
   "cell_type": "markdown",
   "metadata": {},
   "source": [
    "#### 7. Do *a* and *b* have the same size? How do you prove that in Python code?"
   ]
  },
  {
   "cell_type": "code",
   "execution_count": 11,
   "metadata": {},
   "outputs": [
    {
     "name": "stdout",
     "output_type": "stream",
     "text": [
      "Yes, both have the same size\n"
     ]
    }
   ],
   "source": [
    "a\n",
    "x = a.size\n",
    "\n",
    "b\n",
    "y = b.size\n",
    "\n",
    "if x==y:\n",
    "    print(\"Yes, both have the same size\")\n",
    "else:\n",
    "    print(\"Nope\")\n",
    "\n",
    "#No sabía si utilizar el método shape, pero entiendo que nos pedís el \"total de los elementos\", no la estructura."
   ]
  },
  {
   "cell_type": "markdown",
   "metadata": {},
   "source": [
    "#### 8. Are you able to add *a* and *b*? Why or why not?\n"
   ]
  },
  {
   "cell_type": "code",
   "execution_count": 12,
   "metadata": {},
   "outputs": [
    {
     "ename": "ValueError",
     "evalue": "operands could not be broadcast together with shapes (2,3,5) (5,2,3) ",
     "output_type": "error",
     "traceback": [
      "\u001b[0;31m---------------------------------------------------------------------------\u001b[0m",
      "\u001b[0;31mValueError\u001b[0m                                Traceback (most recent call last)",
      "\u001b[0;32m<ipython-input-12-f8eeae07c64e>\u001b[0m in \u001b[0;36m<module>\u001b[0;34m\u001b[0m\n\u001b[0;32m----> 1\u001b[0;31m \u001b[0mc\u001b[0m \u001b[0;34m=\u001b[0m \u001b[0ma\u001b[0m \u001b[0;34m+\u001b[0m \u001b[0mb\u001b[0m\u001b[0;34m\u001b[0m\u001b[0;34m\u001b[0m\u001b[0m\n\u001b[0m\u001b[1;32m      2\u001b[0m \u001b[0;34m\u001b[0m\u001b[0m\n\u001b[1;32m      3\u001b[0m \u001b[0mc\u001b[0m\u001b[0;34m\u001b[0m\u001b[0;34m\u001b[0m\u001b[0m\n\u001b[1;32m      4\u001b[0m \u001b[0;34m\u001b[0m\u001b[0m\n\u001b[1;32m      5\u001b[0m \u001b[0;31m#In order to concatenate two arrays they need to have the same shape or find the overlapping range\u001b[0m\u001b[0;34m\u001b[0m\u001b[0;34m\u001b[0m\u001b[0;34m\u001b[0m\u001b[0m\n",
      "\u001b[0;31mValueError\u001b[0m: operands could not be broadcast together with shapes (2,3,5) (5,2,3) "
     ]
    }
   ],
   "source": [
    "c = a + b\n",
    "\n",
    "c\n",
    "\n",
    "#In order to concatenate two arrays they need to have the same shape or find the overlapping range \n",
    "#and add the arrays using slicing"
   ]
  },
  {
   "cell_type": "markdown",
   "metadata": {},
   "source": [
    "#### 9. Transpose *b* so that it has the same structure of *a* (i.e. become a 2x3x5 array). Assign the transposed array to variable *c*."
   ]
  },
  {
   "cell_type": "code",
   "execution_count": 13,
   "metadata": {},
   "outputs": [
    {
     "name": "stdout",
     "output_type": "stream",
     "text": [
      "[[[1. 1. 1. 1. 1.]\n",
      "  [1. 1. 1. 1. 1.]\n",
      "  [1. 1. 1. 1. 1.]]\n",
      "\n",
      " [[1. 1. 1. 1. 1.]\n",
      "  [1. 1. 1. 1. 1.]\n",
      "  [1. 1. 1. 1. 1.]]]\n",
      "(2, 3, 5)\n"
     ]
    }
   ],
   "source": [
    "c = b.transpose(1,2,0)\n",
    "\n",
    "print(c)\n",
    "print(c.shape)"
   ]
  },
  {
   "cell_type": "markdown",
   "metadata": {},
   "source": [
    "#### 10. Try to add *a* and *c*. Now it should work. Assign the sum to variable *d*. But why does it work now?"
   ]
  },
  {
   "cell_type": "code",
   "execution_count": 14,
   "metadata": {},
   "outputs": [
    {
     "data": {
      "text/plain": [
       "array([[[1.91399405, 1.59238828, 1.00366996, 1.52079189, 1.38218735],\n",
       "        [1.5454666 , 1.77066101, 1.11352731, 1.59353564, 1.7899352 ],\n",
       "        [1.56164932, 1.6780202 , 1.38800914, 1.87088402, 1.49639675]],\n",
       "\n",
       "       [[1.98182773, 1.25711941, 1.46078123, 1.19823094, 1.29850706],\n",
       "        [1.24882793, 1.99975732, 1.07407179, 1.85201861, 1.79437827],\n",
       "        [1.06318756, 1.8720668 , 1.47479499, 1.2802819 , 1.44153684]]])"
      ]
     },
     "execution_count": 14,
     "metadata": {},
     "output_type": "execute_result"
    }
   ],
   "source": [
    "d = a + c\n",
    "\n",
    "d\n",
    "\n",
    "#Because both arrays now have the same size"
   ]
  },
  {
   "cell_type": "markdown",
   "metadata": {},
   "source": [
    "#### 11. Print *a* and *d*. Notice the difference and relation of the two array in terms of the values? Explain."
   ]
  },
  {
   "cell_type": "code",
   "execution_count": 15,
   "metadata": {},
   "outputs": [
    {
     "name": "stdout",
     "output_type": "stream",
     "text": [
      "[[[0.91399405 0.59238828 0.00366996 0.52079189 0.38218735]\n",
      "  [0.5454666  0.77066101 0.11352731 0.59353564 0.7899352 ]\n",
      "  [0.56164932 0.6780202  0.38800914 0.87088402 0.49639675]]\n",
      "\n",
      " [[0.98182773 0.25711941 0.46078123 0.19823094 0.29850706]\n",
      "  [0.24882793 0.99975732 0.07407179 0.85201861 0.79437827]\n",
      "  [0.06318756 0.8720668  0.47479499 0.2802819  0.44153684]]]\n",
      "break\n",
      "[[[1.91399405 1.59238828 1.00366996 1.52079189 1.38218735]\n",
      "  [1.5454666  1.77066101 1.11352731 1.59353564 1.7899352 ]\n",
      "  [1.56164932 1.6780202  1.38800914 1.87088402 1.49639675]]\n",
      "\n",
      " [[1.98182773 1.25711941 1.46078123 1.19823094 1.29850706]\n",
      "  [1.24882793 1.99975732 1.07407179 1.85201861 1.79437827]\n",
      "  [1.06318756 1.8720668  1.47479499 1.2802819  1.44153684]]]\n"
     ]
    }
   ],
   "source": [
    "print(a)\n",
    "print(\"break\")\n",
    "print(d)\n",
    "\n",
    "#Since the c array is composed by a random matrix of ones, when adding a + c, the returning array will have a difference\n",
    "#of 1 in all elements"
   ]
  },
  {
   "cell_type": "markdown",
   "metadata": {},
   "source": [
    "#### 12. Multiply *a* and *c*. Assign the result to *e*."
   ]
  },
  {
   "cell_type": "code",
   "execution_count": 16,
   "metadata": {},
   "outputs": [
    {
     "data": {
      "text/plain": [
       "array([[[0.91399405, 0.59238828, 0.00366996, 0.52079189, 0.38218735],\n",
       "        [0.5454666 , 0.77066101, 0.11352731, 0.59353564, 0.7899352 ],\n",
       "        [0.56164932, 0.6780202 , 0.38800914, 0.87088402, 0.49639675]],\n",
       "\n",
       "       [[0.98182773, 0.25711941, 0.46078123, 0.19823094, 0.29850706],\n",
       "        [0.24882793, 0.99975732, 0.07407179, 0.85201861, 0.79437827],\n",
       "        [0.06318756, 0.8720668 , 0.47479499, 0.2802819 , 0.44153684]]])"
      ]
     },
     "execution_count": 16,
     "metadata": {},
     "output_type": "execute_result"
    }
   ],
   "source": [
    "e = a * c\n",
    "\n",
    "e"
   ]
  },
  {
   "cell_type": "markdown",
   "metadata": {},
   "source": [
    "#### 13. Does *e* equal to *a*? Why or why not?\n"
   ]
  },
  {
   "cell_type": "code",
   "execution_count": 17,
   "metadata": {},
   "outputs": [
    {
     "name": "stdout",
     "output_type": "stream",
     "text": [
      "[[[0.91399405 0.59238828 0.00366996 0.52079189 0.38218735]\n",
      "  [0.5454666  0.77066101 0.11352731 0.59353564 0.7899352 ]\n",
      "  [0.56164932 0.6780202  0.38800914 0.87088402 0.49639675]]\n",
      "\n",
      " [[0.98182773 0.25711941 0.46078123 0.19823094 0.29850706]\n",
      "  [0.24882793 0.99975732 0.07407179 0.85201861 0.79437827]\n",
      "  [0.06318756 0.8720668  0.47479499 0.2802819  0.44153684]]]\n",
      "line break\n",
      "[[[0.91399405 0.59238828 0.00366996 0.52079189 0.38218735]\n",
      "  [0.5454666  0.77066101 0.11352731 0.59353564 0.7899352 ]\n",
      "  [0.56164932 0.6780202  0.38800914 0.87088402 0.49639675]]\n",
      "\n",
      " [[0.98182773 0.25711941 0.46078123 0.19823094 0.29850706]\n",
      "  [0.24882793 0.99975732 0.07407179 0.85201861 0.79437827]\n",
      "  [0.06318756 0.8720668  0.47479499 0.2802819  0.44153684]]]\n"
     ]
    }
   ],
   "source": [
    "print(a)\n",
    "print(\"line break\")\n",
    "print(e)\n",
    "\n",
    "#Yes, they are the same because we are multiplying by 1 all elements, so they all remain the same"
   ]
  },
  {
   "cell_type": "markdown",
   "metadata": {},
   "source": [
    "#### 14. Identify the max, min, and mean values in *d*. Assign those values to variables *d_max*, *d_min* and *d_mean*."
   ]
  },
  {
   "cell_type": "code",
   "execution_count": 18,
   "metadata": {},
   "outputs": [
    {
     "name": "stdout",
     "output_type": "stream",
     "text": [
      "1.9997573185406776\n",
      "1.0036699567476677\n",
      "1.5172835023271642\n"
     ]
    }
   ],
   "source": [
    "d_max = np.max(d)\n",
    "print(d_max)\n",
    "\n",
    "d_min = np.min(d)\n",
    "print(d_min)\n",
    "\n",
    "d_mean = np.mean(d)\n",
    "print(d_mean)"
   ]
  },
  {
   "cell_type": "markdown",
   "metadata": {},
   "source": [
    "#### 15. Now we want to label the values in *d*. First create an empty array *f* with the same shape (i.e. 2x3x5) as *d* using `np.empty`.\n"
   ]
  },
  {
   "cell_type": "code",
   "execution_count": 19,
   "metadata": {},
   "outputs": [
    {
     "data": {
      "text/plain": [
       "array([[[0.91399405, 0.59238828, 0.00366996, 0.52079189, 0.38218735],\n",
       "        [0.5454666 , 0.77066101, 0.11352731, 0.59353564, 0.7899352 ],\n",
       "        [0.56164932, 0.6780202 , 0.38800914, 0.87088402, 0.49639675]],\n",
       "\n",
       "       [[0.98182773, 0.25711941, 0.46078123, 0.19823094, 0.29850706],\n",
       "        [0.24882793, 0.99975732, 0.07407179, 0.85201861, 0.79437827],\n",
       "        [0.06318756, 0.8720668 , 0.47479499, 0.2802819 , 0.44153684]]])"
      ]
     },
     "execution_count": 19,
     "metadata": {},
     "output_type": "execute_result"
    }
   ],
   "source": [
    "f = np.empty(shape=(2,3,5))\n",
    "f"
   ]
  },
  {
   "cell_type": "markdown",
   "metadata": {},
   "source": [
    "#### 16. Populate the values in *f*. \n",
    "\n",
    "For each value in *d*, if it's larger than *d_min* but smaller than *d_mean*, assign 25 to the corresponding value in *f*. If a value in *d* is larger than *d_mean* but smaller than *d_max*, assign 75 to the corresponding value in *f*. If a value equals to *d_mean*, assign 50 to the corresponding value in *f*. Assign 0 to the corresponding value(s) in *f* for *d_min* in *d*. Assign 100 to the corresponding value(s) in *f* for *d_max* in *d*. In the end, f should have only the following values: 0, 25, 50, 75, and 100.\n",
    "\n",
    "**Note**: you don't have to use Numpy in this question."
   ]
  },
  {
   "cell_type": "code",
   "execution_count": 20,
   "metadata": {},
   "outputs": [
    {
     "name": "stdout",
     "output_type": "stream",
     "text": [
      "() 25\n"
     ]
    }
   ],
   "source": [
    "for cell in np.nditer(d):\n",
    "    if cell > d_min and cell < d_mean:\n",
    "        cell = 25\n",
    "    elif cell > d_mean and cell < d_max:\n",
    "        cell = 75\n",
    "    elif cell == d_mean:\n",
    "        cell = 50\n",
    "    elif cell < d_min:\n",
    "        cell = 0\n",
    "    elif cell > d_max:\n",
    "        cell = 100\n",
    "new_array = np.array(cell)        \n",
    "\n",
    "for index, values in np.ndenumerate(new_array):\n",
    "    print(index, values)\n",
    "\n",
    "# I don't know what method should I use to populate the values into a matrix. Haven't found a way of doing it.\n",
    "# Please help"
   ]
  },
  {
   "cell_type": "markdown",
   "metadata": {},
   "source": [
    "#### 17. Print *d* and *f*. Do you have your expected *f*?\n",
    "For instance, if your *d* is:\n",
    "```python\n",
    "[[[1.85836099, 1.67064465, 1.62576044, 1.40243961, 1.88454931],\n",
    "[1.75354326, 1.69403643, 1.36729252, 1.61415071, 1.12104981],\n",
    "[1.72201435, 1.1862918 , 1.87078449, 1.7726778 , 1.88180042]],\n",
    "[[1.44747908, 1.31673383, 1.02000951, 1.52218947, 1.97066381],\n",
    "[1.79129243, 1.74983003, 1.96028037, 1.85166831, 1.65450881],\n",
    "[1.18068344, 1.9587381 , 1.00656599, 1.93402165, 1.73514584]]]\n",
    "```\n",
    "Your *f* should be:\n",
    "```python\n",
    "[[[ 75.,  75.,  75.,  25.,  75.],\n",
    "[ 75.,  75.,  25.,  25.,  25.],\n",
    "[ 75.,  25.,  75.,  75.,  75.]],\n",
    "[[ 25.,  25.,  25.,  25., 100.],\n",
    "[ 75.,  75.,  75.,  75.,  75.],\n",
    "[ 25.,  75.,   0.,  75.,  75.]]]\n",
    "```"
   ]
  },
  {
   "cell_type": "code",
   "execution_count": null,
   "metadata": {},
   "outputs": [],
   "source": [
    "# your code here"
   ]
  },
  {
   "cell_type": "markdown",
   "metadata": {},
   "source": [
    "#### 18. Bonus question: instead of using numbers (i.e. 0, 25, 50, 75, and 100), use string values  (\"A\", \"B\", \"C\", \"D\", and \"E\") to label the array elements. For the example above, the expected result is:\n",
    "\n",
    "```python\n",
    "[[[ 'D',  'D',  'D',  'B',  'D'],\n",
    "[ 'D',  'D',  'B',  'B',  'B'],\n",
    "[ 'D',  'B',  'D',  'D',  'D']],\n",
    "[[ 'B',  'B',  'B',  'B',  'E'],\n",
    "[ 'D',  'D',  'D',  'D',  'D'],\n",
    "[ 'B',  'D',   'A',  'D', 'D']]]\n",
    "```\n",
    "**Note**: you don't have to use Numpy in this question."
   ]
  },
  {
   "cell_type": "code",
   "execution_count": null,
   "metadata": {},
   "outputs": [],
   "source": [
    "# your code here"
   ]
  }
 ],
 "metadata": {
  "kernelspec": {
   "display_name": "Python [conda env:jupyter_env] *",
   "language": "python",
   "name": "conda-env-jupyter_env-py"
  },
  "language_info": {
   "codemirror_mode": {
    "name": "ipython",
    "version": 3
   },
   "file_extension": ".py",
   "mimetype": "text/x-python",
   "name": "python",
   "nbconvert_exporter": "python",
   "pygments_lexer": "ipython3",
   "version": "3.8.2"
  }
 },
 "nbformat": 4,
 "nbformat_minor": 2
}
